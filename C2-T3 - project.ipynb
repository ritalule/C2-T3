{
 "cells": [
  {
   "cell_type": "code",
   "execution_count": 69,
   "id": "d1b34167",
   "metadata": {},
   "outputs": [],
   "source": [
    "#imports\n",
    "#numpy,pandas,scipy, math, matplotlib\n",
    "import numpy as np\n",
    "import pandas as pd\n",
    "import scipy\n",
    "from math import sqrt\n",
    "import matplotlib.pyplot as plt\n",
    "\n",
    "#estimators\n",
    "from sklearn.ensemble import RandomForestRegressor\n",
    "from sklearn.linear_model import LinearRegression\n",
    "from sklearn.svm import SVR\n",
    "\n",
    "#model metrics\n",
    "from sklearn.metrics import mean_squared_error\n",
    "from sklearn.metrics import r2_score\n",
    "from sklearn.model_selection import cross_val_score\n",
    "\n",
    "#cross validation\n",
    "from sklearn.model_selection import train_test_split "
   ]
  },
  {
   "cell_type": "code",
   "execution_count": 70,
   "id": "bc2f643b",
   "metadata": {},
   "outputs": [
    {
     "data": {
      "text/html": [
       "<div>\n",
       "<style scoped>\n",
       "    .dataframe tbody tr th:only-of-type {\n",
       "        vertical-align: middle;\n",
       "    }\n",
       "\n",
       "    .dataframe tbody tr th {\n",
       "        vertical-align: top;\n",
       "    }\n",
       "\n",
       "    .dataframe thead th {\n",
       "        text-align: right;\n",
       "    }\n",
       "</style>\n",
       "<table border=\"1\" class=\"dataframe\">\n",
       "  <thead>\n",
       "    <tr style=\"text-align: right;\">\n",
       "      <th></th>\n",
       "      <th>0</th>\n",
       "      <th>ID</th>\n",
       "      <th>LIMIT_BAL</th>\n",
       "      <th>SEX</th>\n",
       "      <th>EDUCATION</th>\n",
       "      <th>MARRIAGE</th>\n",
       "      <th>AGE</th>\n",
       "      <th>PAY_0</th>\n",
       "      <th>PAY_2</th>\n",
       "      <th>PAY_3</th>\n",
       "      <th>...</th>\n",
       "      <th>BILL_AMT4</th>\n",
       "      <th>BILL_AMT5</th>\n",
       "      <th>BILL_AMT6</th>\n",
       "      <th>PAY_AMT1</th>\n",
       "      <th>PAY_AMT2</th>\n",
       "      <th>PAY_AMT3</th>\n",
       "      <th>PAY_AMT4</th>\n",
       "      <th>PAY_AMT5</th>\n",
       "      <th>PAY_AMT6</th>\n",
       "      <th>default payment next month</th>\n",
       "    </tr>\n",
       "  </thead>\n",
       "  <tbody>\n",
       "    <tr>\n",
       "      <th>0</th>\n",
       "      <td>1</td>\n",
       "      <td>1</td>\n",
       "      <td>20000</td>\n",
       "      <td>female</td>\n",
       "      <td>university</td>\n",
       "      <td>1</td>\n",
       "      <td>24</td>\n",
       "      <td>2</td>\n",
       "      <td>2</td>\n",
       "      <td>-1</td>\n",
       "      <td>...</td>\n",
       "      <td>0</td>\n",
       "      <td>0</td>\n",
       "      <td>0</td>\n",
       "      <td>0</td>\n",
       "      <td>689</td>\n",
       "      <td>0</td>\n",
       "      <td>0</td>\n",
       "      <td>0</td>\n",
       "      <td>0</td>\n",
       "      <td>default</td>\n",
       "    </tr>\n",
       "    <tr>\n",
       "      <th>1</th>\n",
       "      <td>2</td>\n",
       "      <td>2</td>\n",
       "      <td>120000</td>\n",
       "      <td>female</td>\n",
       "      <td>university</td>\n",
       "      <td>2</td>\n",
       "      <td>26</td>\n",
       "      <td>-1</td>\n",
       "      <td>2</td>\n",
       "      <td>0</td>\n",
       "      <td>...</td>\n",
       "      <td>3272</td>\n",
       "      <td>3455</td>\n",
       "      <td>3261</td>\n",
       "      <td>0</td>\n",
       "      <td>1000</td>\n",
       "      <td>1000</td>\n",
       "      <td>1000</td>\n",
       "      <td>0</td>\n",
       "      <td>2000</td>\n",
       "      <td>default</td>\n",
       "    </tr>\n",
       "    <tr>\n",
       "      <th>2</th>\n",
       "      <td>3</td>\n",
       "      <td>3</td>\n",
       "      <td>90000</td>\n",
       "      <td>female</td>\n",
       "      <td>university</td>\n",
       "      <td>2</td>\n",
       "      <td>34</td>\n",
       "      <td>0</td>\n",
       "      <td>0</td>\n",
       "      <td>0</td>\n",
       "      <td>...</td>\n",
       "      <td>14331</td>\n",
       "      <td>14948</td>\n",
       "      <td>15549</td>\n",
       "      <td>1518</td>\n",
       "      <td>1500</td>\n",
       "      <td>1000</td>\n",
       "      <td>1000</td>\n",
       "      <td>1000</td>\n",
       "      <td>5000</td>\n",
       "      <td>not default</td>\n",
       "    </tr>\n",
       "    <tr>\n",
       "      <th>3</th>\n",
       "      <td>4</td>\n",
       "      <td>4</td>\n",
       "      <td>50000</td>\n",
       "      <td>female</td>\n",
       "      <td>university</td>\n",
       "      <td>1</td>\n",
       "      <td>37</td>\n",
       "      <td>0</td>\n",
       "      <td>0</td>\n",
       "      <td>0</td>\n",
       "      <td>...</td>\n",
       "      <td>28314</td>\n",
       "      <td>28959</td>\n",
       "      <td>29547</td>\n",
       "      <td>2000</td>\n",
       "      <td>2019</td>\n",
       "      <td>1200</td>\n",
       "      <td>1100</td>\n",
       "      <td>1069</td>\n",
       "      <td>1000</td>\n",
       "      <td>not default</td>\n",
       "    </tr>\n",
       "    <tr>\n",
       "      <th>4</th>\n",
       "      <td>5</td>\n",
       "      <td>5</td>\n",
       "      <td>50000</td>\n",
       "      <td>male</td>\n",
       "      <td>university</td>\n",
       "      <td>1</td>\n",
       "      <td>57</td>\n",
       "      <td>-1</td>\n",
       "      <td>0</td>\n",
       "      <td>-1</td>\n",
       "      <td>...</td>\n",
       "      <td>20940</td>\n",
       "      <td>19146</td>\n",
       "      <td>19131</td>\n",
       "      <td>2000</td>\n",
       "      <td>36681</td>\n",
       "      <td>10000</td>\n",
       "      <td>9000</td>\n",
       "      <td>689</td>\n",
       "      <td>679</td>\n",
       "      <td>not default</td>\n",
       "    </tr>\n",
       "  </tbody>\n",
       "</table>\n",
       "<p>5 rows × 26 columns</p>\n",
       "</div>"
      ],
      "text/plain": [
       "   0 ID LIMIT_BAL     SEX   EDUCATION MARRIAGE AGE PAY_0 PAY_2 PAY_3  ...  \\\n",
       "0  1  1     20000  female  university        1  24     2     2    -1  ...   \n",
       "1  2  2    120000  female  university        2  26    -1     2     0  ...   \n",
       "2  3  3     90000  female  university        2  34     0     0     0  ...   \n",
       "3  4  4     50000  female  university        1  37     0     0     0  ...   \n",
       "4  5  5     50000    male  university        1  57    -1     0    -1  ...   \n",
       "\n",
       "  BILL_AMT4 BILL_AMT5 BILL_AMT6 PAY_AMT1 PAY_AMT2 PAY_AMT3 PAY_AMT4 PAY_AMT5  \\\n",
       "0         0         0         0        0      689        0        0        0   \n",
       "1      3272      3455      3261        0     1000     1000     1000        0   \n",
       "2     14331     14948     15549     1518     1500     1000     1000     1000   \n",
       "3     28314     28959     29547     2000     2019     1200     1100     1069   \n",
       "4     20940     19146     19131     2000    36681    10000     9000      689   \n",
       "\n",
       "  PAY_AMT6 default payment next month  \n",
       "0        0                    default  \n",
       "1     2000                    default  \n",
       "2     5000                not default  \n",
       "3     1000                not default  \n",
       "4      679                not default  \n",
       "\n",
       "[5 rows x 26 columns]"
      ]
     },
     "execution_count": 70,
     "metadata": {},
     "output_type": "execute_result"
    }
   ],
   "source": [
    "#Import data\n",
    "df = pd.read_csv('credit.csv',header=1)\n",
    "credit = df\n",
    "credit.head()"
   ]
  },
  {
   "cell_type": "code",
   "execution_count": 71,
   "id": "04a13ae7",
   "metadata": {},
   "outputs": [
    {
     "name": "stdout",
     "output_type": "stream",
     "text": [
      "<class 'pandas.core.frame.DataFrame'>\n",
      "RangeIndex: 30203 entries, 0 to 30202\n",
      "Data columns (total 26 columns):\n",
      " #   Column                      Non-Null Count  Dtype \n",
      "---  ------                      --------------  ----- \n",
      " 0   0                           30203 non-null  int64 \n",
      " 1   ID                          30202 non-null  object\n",
      " 2   LIMIT_BAL                   30203 non-null  object\n",
      " 3   SEX                         30203 non-null  object\n",
      " 4   EDUCATION                   30203 non-null  object\n",
      " 5   MARRIAGE                    30203 non-null  object\n",
      " 6   AGE                         30203 non-null  object\n",
      " 7   PAY_0                       30203 non-null  object\n",
      " 8   PAY_2                       30203 non-null  object\n",
      " 9   PAY_3                       30203 non-null  object\n",
      " 10  PAY_4                       30203 non-null  object\n",
      " 11  PAY_5                       30203 non-null  object\n",
      " 12  PAY_6                       30203 non-null  object\n",
      " 13  BILL_AMT1                   30203 non-null  object\n",
      " 14  BILL_AMT2                   30203 non-null  object\n",
      " 15  BILL_AMT3                   30203 non-null  object\n",
      " 16  BILL_AMT4                   30203 non-null  object\n",
      " 17  BILL_AMT5                   30203 non-null  object\n",
      " 18  BILL_AMT6                   30203 non-null  object\n",
      " 19  PAY_AMT1                    30203 non-null  object\n",
      " 20  PAY_AMT2                    30203 non-null  object\n",
      " 21  PAY_AMT3                    30203 non-null  object\n",
      " 22  PAY_AMT4                    30203 non-null  object\n",
      " 23  PAY_AMT5                    30203 non-null  object\n",
      " 24  PAY_AMT6                    30203 non-null  object\n",
      " 25  default payment next month  30203 non-null  object\n",
      "dtypes: int64(1), object(25)\n",
      "memory usage: 6.0+ MB\n"
     ]
    }
   ],
   "source": [
    "credit.info()"
   ]
  },
  {
   "cell_type": "code",
   "execution_count": 72,
   "id": "d9ac062a",
   "metadata": {},
   "outputs": [
    {
     "name": "stdout",
     "output_type": "stream",
     "text": [
      "0                             0\n",
      "ID                            1\n",
      "LIMIT_BAL                     0\n",
      "SEX                           0\n",
      "EDUCATION                     0\n",
      "MARRIAGE                      0\n",
      "AGE                           0\n",
      "PAY_0                         0\n",
      "PAY_2                         0\n",
      "PAY_3                         0\n",
      "PAY_4                         0\n",
      "PAY_5                         0\n",
      "PAY_6                         0\n",
      "BILL_AMT1                     0\n",
      "BILL_AMT2                     0\n",
      "BILL_AMT3                     0\n",
      "BILL_AMT4                     0\n",
      "BILL_AMT5                     0\n",
      "BILL_AMT6                     0\n",
      "PAY_AMT1                      0\n",
      "PAY_AMT2                      0\n",
      "PAY_AMT3                      0\n",
      "PAY_AMT4                      0\n",
      "PAY_AMT5                      0\n",
      "PAY_AMT6                      0\n",
      "default payment next month    0\n",
      "dtype: int64\n"
     ]
    }
   ],
   "source": [
    "print(credit.isnull().sum())"
   ]
  },
  {
   "cell_type": "code",
   "execution_count": 73,
   "id": "f64e7fa8",
   "metadata": {},
   "outputs": [
    {
     "data": {
      "text/html": [
       "<div>\n",
       "<style scoped>\n",
       "    .dataframe tbody tr th:only-of-type {\n",
       "        vertical-align: middle;\n",
       "    }\n",
       "\n",
       "    .dataframe tbody tr th {\n",
       "        vertical-align: top;\n",
       "    }\n",
       "\n",
       "    .dataframe thead th {\n",
       "        text-align: right;\n",
       "    }\n",
       "</style>\n",
       "<table border=\"1\" class=\"dataframe\">\n",
       "  <thead>\n",
       "    <tr style=\"text-align: right;\">\n",
       "      <th></th>\n",
       "      <th>0</th>\n",
       "      <th>ID</th>\n",
       "      <th>LIMIT_BAL</th>\n",
       "      <th>SEX</th>\n",
       "      <th>EDUCATION</th>\n",
       "      <th>MARRIAGE</th>\n",
       "      <th>AGE</th>\n",
       "      <th>PAY_0</th>\n",
       "      <th>PAY_2</th>\n",
       "      <th>PAY_3</th>\n",
       "      <th>...</th>\n",
       "      <th>BILL_AMT4</th>\n",
       "      <th>BILL_AMT5</th>\n",
       "      <th>BILL_AMT6</th>\n",
       "      <th>PAY_AMT1</th>\n",
       "      <th>PAY_AMT2</th>\n",
       "      <th>PAY_AMT3</th>\n",
       "      <th>PAY_AMT4</th>\n",
       "      <th>PAY_AMT5</th>\n",
       "      <th>PAY_AMT6</th>\n",
       "      <th>default payment next month</th>\n",
       "    </tr>\n",
       "  </thead>\n",
       "  <tbody>\n",
       "    <tr>\n",
       "      <th>201</th>\n",
       "      <td>202</td>\n",
       "      <td>NaN</td>\n",
       "      <td>X1</td>\n",
       "      <td>X2</td>\n",
       "      <td>X3</td>\n",
       "      <td>X4</td>\n",
       "      <td>X5</td>\n",
       "      <td>X6</td>\n",
       "      <td>X7</td>\n",
       "      <td>X8</td>\n",
       "      <td>...</td>\n",
       "      <td>X15</td>\n",
       "      <td>X16</td>\n",
       "      <td>X17</td>\n",
       "      <td>X18</td>\n",
       "      <td>X19</td>\n",
       "      <td>X20</td>\n",
       "      <td>X21</td>\n",
       "      <td>X22</td>\n",
       "      <td>X23</td>\n",
       "      <td>Y</td>\n",
       "    </tr>\n",
       "  </tbody>\n",
       "</table>\n",
       "<p>1 rows × 26 columns</p>\n",
       "</div>"
      ],
      "text/plain": [
       "       0   ID LIMIT_BAL SEX EDUCATION MARRIAGE AGE PAY_0 PAY_2 PAY_3  ...  \\\n",
       "201  202  NaN        X1  X2        X3       X4  X5    X6    X7    X8  ...   \n",
       "\n",
       "    BILL_AMT4 BILL_AMT5 BILL_AMT6 PAY_AMT1 PAY_AMT2 PAY_AMT3 PAY_AMT4  \\\n",
       "201       X15       X16       X17      X18      X19      X20      X21   \n",
       "\n",
       "    PAY_AMT5 PAY_AMT6 default payment next month  \n",
       "201      X22      X23                          Y  \n",
       "\n",
       "[1 rows x 26 columns]"
      ]
     },
     "execution_count": 73,
     "metadata": {},
     "output_type": "execute_result"
    }
   ],
   "source": [
    "credit[credit['ID'].isnull()]"
   ]
  },
  {
   "cell_type": "code",
   "execution_count": 74,
   "id": "ddefa10d",
   "metadata": {},
   "outputs": [],
   "source": [
    "credit.dropna(inplace= True)"
   ]
  },
  {
   "cell_type": "code",
   "execution_count": 75,
   "id": "8230e2cd",
   "metadata": {},
   "outputs": [
    {
     "name": "stdout",
     "output_type": "stream",
     "text": [
      "0                             0\n",
      "ID                            0\n",
      "LIMIT_BAL                     0\n",
      "SEX                           0\n",
      "EDUCATION                     0\n",
      "MARRIAGE                      0\n",
      "AGE                           0\n",
      "PAY_0                         0\n",
      "PAY_2                         0\n",
      "PAY_3                         0\n",
      "PAY_4                         0\n",
      "PAY_5                         0\n",
      "PAY_6                         0\n",
      "BILL_AMT1                     0\n",
      "BILL_AMT2                     0\n",
      "BILL_AMT3                     0\n",
      "BILL_AMT4                     0\n",
      "BILL_AMT5                     0\n",
      "BILL_AMT6                     0\n",
      "PAY_AMT1                      0\n",
      "PAY_AMT2                      0\n",
      "PAY_AMT3                      0\n",
      "PAY_AMT4                      0\n",
      "PAY_AMT5                      0\n",
      "PAY_AMT6                      0\n",
      "default payment next month    0\n",
      "dtype: int64\n"
     ]
    }
   ],
   "source": [
    "print(credit.isnull().sum())"
   ]
  },
  {
   "cell_type": "code",
   "execution_count": 76,
   "id": "348d564e",
   "metadata": {},
   "outputs": [
    {
     "name": "stdout",
     "output_type": "stream",
     "text": [
      "       0   ID  LIMIT_BAL     SEX        EDUCATION  MARRIAGE  AGE  PAY_0  \\\n",
      "200  201  201     180000  female  graduate school         1   38     -2   \n",
      "202  203   ID  LIMIT_BAL     SEX        EDUCATION  MARRIAGE  AGE  PAY_0   \n",
      "203  204    1      20000  female       university         1   24      2   \n",
      "204  205    2     120000  female       university         2   26     -1   \n",
      "205  206    3      90000  female       university         2   34      0   \n",
      "206  207    4      50000  female       university         1   37      0   \n",
      "207  208    5      50000    male       university         1   57     -1   \n",
      "208  209    6      50000    male  graduate school         2   37      0   \n",
      "\n",
      "     PAY_2  PAY_3  ...  BILL_AMT4  BILL_AMT5  BILL_AMT6  PAY_AMT1  PAY_AMT2  \\\n",
      "200     -2     -2  ...          0          0          0         0         0   \n",
      "202  PAY_2  PAY_3  ...  BILL_AMT4  BILL_AMT5  BILL_AMT6  PAY_AMT1  PAY_AMT2   \n",
      "203      2     -1  ...          0          0          0         0       689   \n",
      "204      2      0  ...       3272       3455       3261         0      1000   \n",
      "205      0      0  ...      14331      14948      15549      1518      1500   \n",
      "206      0      0  ...      28314      28959      29547      2000      2019   \n",
      "207      0     -1  ...      20940      19146      19131      2000     36681   \n",
      "208      0      0  ...      19394      19619      20024      2500      1815   \n",
      "\n",
      "     PAY_AMT3  PAY_AMT4  PAY_AMT5  PAY_AMT6  default payment next month  \n",
      "200         0         0         0         0                 not default  \n",
      "202  PAY_AMT3  PAY_AMT4  PAY_AMT5  PAY_AMT6  default payment next month  \n",
      "203         0         0         0         0                     default  \n",
      "204      1000      1000         0      2000                     default  \n",
      "205      1000      1000      1000      5000                 not default  \n",
      "206      1200      1100      1069      1000                 not default  \n",
      "207     10000      9000       689       679                 not default  \n",
      "208       657      1000      1000       800                 not default  \n",
      "\n",
      "[8 rows x 26 columns]\n"
     ]
    }
   ],
   "source": [
    "print(credit.loc[200:208, :])"
   ]
  },
  {
   "cell_type": "code",
   "execution_count": 77,
   "id": "eb30246a",
   "metadata": {},
   "outputs": [],
   "source": [
    "credit.drop(202, inplace=True)"
   ]
  },
  {
   "cell_type": "code",
   "execution_count": 78,
   "id": "3b2032bb",
   "metadata": {},
   "outputs": [
    {
     "name": "stdout",
     "output_type": "stream",
     "text": [
      "       0   ID LIMIT_BAL     SEX        EDUCATION MARRIAGE AGE PAY_0 PAY_2  \\\n",
      "200  201  201    180000  female  graduate school        1  38    -2    -2   \n",
      "203  204    1     20000  female       university        1  24     2     2   \n",
      "204  205    2    120000  female       university        2  26    -1     2   \n",
      "205  206    3     90000  female       university        2  34     0     0   \n",
      "206  207    4     50000  female       university        1  37     0     0   \n",
      "207  208    5     50000    male       university        1  57    -1     0   \n",
      "208  209    6     50000    male  graduate school        2  37     0     0   \n",
      "\n",
      "    PAY_3  ... BILL_AMT4 BILL_AMT5 BILL_AMT6 PAY_AMT1 PAY_AMT2 PAY_AMT3  \\\n",
      "200    -2  ...         0         0         0        0        0        0   \n",
      "203    -1  ...         0         0         0        0      689        0   \n",
      "204     0  ...      3272      3455      3261        0     1000     1000   \n",
      "205     0  ...     14331     14948     15549     1518     1500     1000   \n",
      "206     0  ...     28314     28959     29547     2000     2019     1200   \n",
      "207    -1  ...     20940     19146     19131     2000    36681    10000   \n",
      "208     0  ...     19394     19619     20024     2500     1815      657   \n",
      "\n",
      "    PAY_AMT4 PAY_AMT5 PAY_AMT6 default payment next month  \n",
      "200        0        0        0                not default  \n",
      "203        0        0        0                    default  \n",
      "204     1000        0     2000                    default  \n",
      "205     1000     1000     5000                not default  \n",
      "206     1100     1069     1000                not default  \n",
      "207     9000      689      679                not default  \n",
      "208     1000     1000      800                not default  \n",
      "\n",
      "[7 rows x 26 columns]\n"
     ]
    }
   ],
   "source": [
    "print(credit.loc[200:208, :])"
   ]
  },
  {
   "cell_type": "code",
   "execution_count": 79,
   "id": "ded1798c",
   "metadata": {},
   "outputs": [
    {
     "name": "stdout",
     "output_type": "stream",
     "text": [
      "<class 'pandas.core.frame.DataFrame'>\n",
      "Int64Index: 30201 entries, 0 to 30202\n",
      "Data columns (total 26 columns):\n",
      " #   Column                      Non-Null Count  Dtype \n",
      "---  ------                      --------------  ----- \n",
      " 0   0                           30201 non-null  int64 \n",
      " 1   ID                          30201 non-null  object\n",
      " 2   LIMIT_BAL                   30201 non-null  object\n",
      " 3   SEX                         30201 non-null  object\n",
      " 4   EDUCATION                   30201 non-null  object\n",
      " 5   MARRIAGE                    30201 non-null  object\n",
      " 6   AGE                         30201 non-null  object\n",
      " 7   PAY_0                       30201 non-null  object\n",
      " 8   PAY_2                       30201 non-null  object\n",
      " 9   PAY_3                       30201 non-null  object\n",
      " 10  PAY_4                       30201 non-null  object\n",
      " 11  PAY_5                       30201 non-null  object\n",
      " 12  PAY_6                       30201 non-null  object\n",
      " 13  BILL_AMT1                   30201 non-null  object\n",
      " 14  BILL_AMT2                   30201 non-null  object\n",
      " 15  BILL_AMT3                   30201 non-null  object\n",
      " 16  BILL_AMT4                   30201 non-null  object\n",
      " 17  BILL_AMT5                   30201 non-null  object\n",
      " 18  BILL_AMT6                   30201 non-null  object\n",
      " 19  PAY_AMT1                    30201 non-null  object\n",
      " 20  PAY_AMT2                    30201 non-null  object\n",
      " 21  PAY_AMT3                    30201 non-null  object\n",
      " 22  PAY_AMT4                    30201 non-null  object\n",
      " 23  PAY_AMT5                    30201 non-null  object\n",
      " 24  PAY_AMT6                    30201 non-null  object\n",
      " 25  default payment next month  30201 non-null  object\n",
      "dtypes: int64(1), object(25)\n",
      "memory usage: 7.2+ MB\n"
     ]
    }
   ],
   "source": [
    "credit.info()"
   ]
  },
  {
   "cell_type": "code",
   "execution_count": 80,
   "id": "550a919d",
   "metadata": {},
   "outputs": [
    {
     "name": "stdout",
     "output_type": "stream",
     "text": [
      "     0  ID LIMIT_BAL     SEX        EDUCATION MARRIAGE AGE PAY_0 PAY_2 PAY_3  \\\n",
      "1    2   2    120000  female       university        2  26    -1     2     0   \n",
      "2    3   3     90000  female       university        2  34     0     0     0   \n",
      "3    4   4     50000  female       university        1  37     0     0     0   \n",
      "4    5   5     50000    male       university        1  57    -1     0    -1   \n",
      "5    6   6     50000    male  graduate school        2  37     0     0     0   \n",
      "6    7   7    500000    male  graduate school        2  29     0     0     0   \n",
      "7    8   8    100000  female       university        2  23     0    -1    -1   \n",
      "8    9   9    140000  female      high school        1  28     0     0     2   \n",
      "9   10  10     20000    male      high school        2  35    -2    -2    -2   \n",
      "10  11  11    200000  female      high school        2  34     0     0     2   \n",
      "\n",
      "    ... BILL_AMT4 BILL_AMT5 BILL_AMT6 PAY_AMT1 PAY_AMT2 PAY_AMT3 PAY_AMT4  \\\n",
      "1   ...      3272      3455      3261        0     1000     1000     1000   \n",
      "2   ...     14331     14948     15549     1518     1500     1000     1000   \n",
      "3   ...     28314     28959     29547     2000     2019     1200     1100   \n",
      "4   ...     20940     19146     19131     2000    36681    10000     9000   \n",
      "5   ...     19394     19619     20024     2500     1815      657     1000   \n",
      "6   ...    542653    483003    473944    55000    40000    38000    20239   \n",
      "7   ...       221      -159       567      380      601        0      581   \n",
      "8   ...     12211     11793      3719     3329        0      432     1000   \n",
      "9   ...         0     13007     13912        0        0        0    13007   \n",
      "10  ...      2513      1828      3731     2306       12       50      300   \n",
      "\n",
      "   PAY_AMT5 PAY_AMT6 default payment next month  \n",
      "1         0     2000                    default  \n",
      "2      1000     5000                not default  \n",
      "3      1069     1000                not default  \n",
      "4       689      679                not default  \n",
      "5      1000      800                not default  \n",
      "6     13750    13770                not default  \n",
      "7      1687     1542                not default  \n",
      "8      1000     1000                not default  \n",
      "9      1122        0                not default  \n",
      "10     3738       66                not default  \n",
      "\n",
      "[10 rows x 26 columns]\n"
     ]
    }
   ],
   "source": [
    "credit.drop(0, inplace=True)\n",
    "print(credit.loc[0:10, :])"
   ]
  },
  {
   "cell_type": "code",
   "execution_count": 81,
   "id": "49d82d5a",
   "metadata": {},
   "outputs": [
    {
     "data": {
      "text/plain": [
       "dtype('int32')"
      ]
     },
     "execution_count": 81,
     "metadata": {},
     "output_type": "execute_result"
    }
   ],
   "source": [
    "credit['ID'] = credit['ID'].astype(int)\n",
    "credit['ID'].dtypes\n",
    "credit['LIMIT_BAL'] = credit['LIMIT_BAL'].astype(int)\n",
    "credit['LIMIT_BAL'].dtypes\n",
    "credit['MARRIAGE'] = credit['MARRIAGE'].astype(int)\n",
    "credit['MARRIAGE'].dtypes\n",
    "credit['AGE'] = credit['AGE'].astype(int)\n",
    "credit['AGE'].dtypes\n",
    "credit['PAY_0'] = credit['PAY_0'].astype(int)\n",
    "credit['PAY_0'].dtypes\n",
    "credit['PAY_2'] = credit['PAY_2'].astype(int)\n",
    "credit['PAY_2'].dtypes\n",
    "credit['PAY_3'] = credit['PAY_3'].astype(int)\n",
    "credit['PAY_3'].dtypes\n",
    "credit['PAY_4'] = credit['PAY_4'].astype(int)\n",
    "credit['PAY_4'].dtypes\n",
    "credit['PAY_5'] = credit['PAY_5'].astype(int)\n",
    "credit['PAY_5'].dtypes\n",
    "credit['PAY_6'] = credit['PAY_6'].astype(int)\n",
    "credit['PAY_6'].dtypes\n",
    "credit['BILL_AMT1'] = credit['BILL_AMT1'].astype(int)\n",
    "credit['BILL_AMT1'].dtypes\n",
    "credit['BILL_AMT2'] = credit['BILL_AMT2'].astype(int)\n",
    "credit['BILL_AMT2'].dtypes\n",
    "credit['BILL_AMT3'] = credit['BILL_AMT3'].astype(int)\n",
    "credit['BILL_AMT3'].dtypes\n",
    "credit['BILL_AMT4'] = credit['BILL_AMT4'].astype(int)\n",
    "credit['BILL_AMT4'].dtypes\n",
    "credit['BILL_AMT5'] = credit['BILL_AMT5'].astype(int)\n",
    "credit['BILL_AMT5'].dtypes\n",
    "credit['BILL_AMT6'] = credit['BILL_AMT6'].astype(int)\n",
    "credit['BILL_AMT6'].dtypes\n",
    "credit['PAY_AMT1'] = credit['PAY_AMT1'].astype(int)\n",
    "credit['PAY_AMT1'].dtypes\n",
    "credit['PAY_AMT2'] = credit['PAY_AMT2'].astype(int)\n",
    "credit['PAY_AMT2'].dtypes\n",
    "credit['PAY_AMT3'] = credit['PAY_AMT3'].astype(int)\n",
    "credit['PAY_AMT3'].dtypes\n",
    "credit['PAY_AMT4'] = credit['PAY_AMT4'].astype(int)\n",
    "credit['PAY_AMT4'].dtypes\n",
    "credit['PAY_AMT5'] = credit['PAY_AMT5'].astype(int)\n",
    "credit['PAY_AMT5'].dtypes\n",
    "credit['PAY_AMT6'] = credit['PAY_AMT6'].astype(int)\n",
    "credit['PAY_AMT6'].dtypes"
   ]
  },
  {
   "cell_type": "code",
   "execution_count": 82,
   "id": "86216544",
   "metadata": {},
   "outputs": [
    {
     "name": "stdout",
     "output_type": "stream",
     "text": [
      "<class 'pandas.core.frame.DataFrame'>\n",
      "Int64Index: 30200 entries, 1 to 30202\n",
      "Data columns (total 26 columns):\n",
      " #   Column                      Non-Null Count  Dtype \n",
      "---  ------                      --------------  ----- \n",
      " 0   0                           30200 non-null  int64 \n",
      " 1   ID                          30200 non-null  int32 \n",
      " 2   LIMIT_BAL                   30200 non-null  int32 \n",
      " 3   SEX                         30200 non-null  object\n",
      " 4   EDUCATION                   30200 non-null  object\n",
      " 5   MARRIAGE                    30200 non-null  int32 \n",
      " 6   AGE                         30200 non-null  int32 \n",
      " 7   PAY_0                       30200 non-null  int32 \n",
      " 8   PAY_2                       30200 non-null  int32 \n",
      " 9   PAY_3                       30200 non-null  int32 \n",
      " 10  PAY_4                       30200 non-null  int32 \n",
      " 11  PAY_5                       30200 non-null  int32 \n",
      " 12  PAY_6                       30200 non-null  int32 \n",
      " 13  BILL_AMT1                   30200 non-null  int32 \n",
      " 14  BILL_AMT2                   30200 non-null  int32 \n",
      " 15  BILL_AMT3                   30200 non-null  int32 \n",
      " 16  BILL_AMT4                   30200 non-null  int32 \n",
      " 17  BILL_AMT5                   30200 non-null  int32 \n",
      " 18  BILL_AMT6                   30200 non-null  int32 \n",
      " 19  PAY_AMT1                    30200 non-null  int32 \n",
      " 20  PAY_AMT2                    30200 non-null  int32 \n",
      " 21  PAY_AMT3                    30200 non-null  int32 \n",
      " 22  PAY_AMT4                    30200 non-null  int32 \n",
      " 23  PAY_AMT5                    30200 non-null  int32 \n",
      " 24  PAY_AMT6                    30200 non-null  int32 \n",
      " 25  default payment next month  30200 non-null  object\n",
      "dtypes: int32(22), int64(1), object(3)\n",
      "memory usage: 4.7+ MB\n"
     ]
    }
   ],
   "source": [
    "credit.info()"
   ]
  },
  {
   "cell_type": "code",
   "execution_count": 83,
   "id": "6ba03d40",
   "metadata": {},
   "outputs": [],
   "source": [
    "credit = pd.get_dummies(credit)"
   ]
  },
  {
   "cell_type": "code",
   "execution_count": 84,
   "id": "bc39ece3",
   "metadata": {},
   "outputs": [
    {
     "name": "stdout",
     "output_type": "stream",
     "text": [
      "Summary of feature sample\n"
     ]
    },
    {
     "data": {
      "text/html": [
       "<div>\n",
       "<style scoped>\n",
       "    .dataframe tbody tr th:only-of-type {\n",
       "        vertical-align: middle;\n",
       "    }\n",
       "\n",
       "    .dataframe tbody tr th {\n",
       "        vertical-align: top;\n",
       "    }\n",
       "\n",
       "    .dataframe thead th {\n",
       "        text-align: right;\n",
       "    }\n",
       "</style>\n",
       "<table border=\"1\" class=\"dataframe\">\n",
       "  <thead>\n",
       "    <tr style=\"text-align: right;\">\n",
       "      <th></th>\n",
       "      <th>0</th>\n",
       "      <th>ID</th>\n",
       "      <th>MARRIAGE</th>\n",
       "      <th>AGE</th>\n",
       "      <th>PAY_0</th>\n",
       "      <th>PAY_2</th>\n",
       "      <th>PAY_3</th>\n",
       "      <th>PAY_4</th>\n",
       "      <th>PAY_5</th>\n",
       "      <th>PAY_6</th>\n",
       "      <th>...</th>\n",
       "      <th>PAY_AMT5</th>\n",
       "      <th>PAY_AMT6</th>\n",
       "      <th>SEX_female</th>\n",
       "      <th>SEX_male</th>\n",
       "      <th>EDUCATION_graduate school</th>\n",
       "      <th>EDUCATION_high school</th>\n",
       "      <th>EDUCATION_other</th>\n",
       "      <th>EDUCATION_university</th>\n",
       "      <th>default payment next month_default</th>\n",
       "      <th>default payment next month_not default</th>\n",
       "    </tr>\n",
       "  </thead>\n",
       "  <tbody>\n",
       "    <tr>\n",
       "      <th>1</th>\n",
       "      <td>2</td>\n",
       "      <td>2</td>\n",
       "      <td>2</td>\n",
       "      <td>26</td>\n",
       "      <td>-1</td>\n",
       "      <td>2</td>\n",
       "      <td>0</td>\n",
       "      <td>0</td>\n",
       "      <td>0</td>\n",
       "      <td>2</td>\n",
       "      <td>...</td>\n",
       "      <td>0</td>\n",
       "      <td>2000</td>\n",
       "      <td>1</td>\n",
       "      <td>0</td>\n",
       "      <td>0</td>\n",
       "      <td>0</td>\n",
       "      <td>0</td>\n",
       "      <td>1</td>\n",
       "      <td>1</td>\n",
       "      <td>0</td>\n",
       "    </tr>\n",
       "    <tr>\n",
       "      <th>2</th>\n",
       "      <td>3</td>\n",
       "      <td>3</td>\n",
       "      <td>2</td>\n",
       "      <td>34</td>\n",
       "      <td>0</td>\n",
       "      <td>0</td>\n",
       "      <td>0</td>\n",
       "      <td>0</td>\n",
       "      <td>0</td>\n",
       "      <td>0</td>\n",
       "      <td>...</td>\n",
       "      <td>1000</td>\n",
       "      <td>5000</td>\n",
       "      <td>1</td>\n",
       "      <td>0</td>\n",
       "      <td>0</td>\n",
       "      <td>0</td>\n",
       "      <td>0</td>\n",
       "      <td>1</td>\n",
       "      <td>0</td>\n",
       "      <td>1</td>\n",
       "    </tr>\n",
       "    <tr>\n",
       "      <th>3</th>\n",
       "      <td>4</td>\n",
       "      <td>4</td>\n",
       "      <td>1</td>\n",
       "      <td>37</td>\n",
       "      <td>0</td>\n",
       "      <td>0</td>\n",
       "      <td>0</td>\n",
       "      <td>0</td>\n",
       "      <td>0</td>\n",
       "      <td>0</td>\n",
       "      <td>...</td>\n",
       "      <td>1069</td>\n",
       "      <td>1000</td>\n",
       "      <td>1</td>\n",
       "      <td>0</td>\n",
       "      <td>0</td>\n",
       "      <td>0</td>\n",
       "      <td>0</td>\n",
       "      <td>1</td>\n",
       "      <td>0</td>\n",
       "      <td>1</td>\n",
       "    </tr>\n",
       "    <tr>\n",
       "      <th>4</th>\n",
       "      <td>5</td>\n",
       "      <td>5</td>\n",
       "      <td>1</td>\n",
       "      <td>57</td>\n",
       "      <td>-1</td>\n",
       "      <td>0</td>\n",
       "      <td>-1</td>\n",
       "      <td>0</td>\n",
       "      <td>0</td>\n",
       "      <td>0</td>\n",
       "      <td>...</td>\n",
       "      <td>689</td>\n",
       "      <td>679</td>\n",
       "      <td>0</td>\n",
       "      <td>1</td>\n",
       "      <td>0</td>\n",
       "      <td>0</td>\n",
       "      <td>0</td>\n",
       "      <td>1</td>\n",
       "      <td>0</td>\n",
       "      <td>1</td>\n",
       "    </tr>\n",
       "    <tr>\n",
       "      <th>5</th>\n",
       "      <td>6</td>\n",
       "      <td>6</td>\n",
       "      <td>2</td>\n",
       "      <td>37</td>\n",
       "      <td>0</td>\n",
       "      <td>0</td>\n",
       "      <td>0</td>\n",
       "      <td>0</td>\n",
       "      <td>0</td>\n",
       "      <td>0</td>\n",
       "      <td>...</td>\n",
       "      <td>1000</td>\n",
       "      <td>800</td>\n",
       "      <td>0</td>\n",
       "      <td>1</td>\n",
       "      <td>1</td>\n",
       "      <td>0</td>\n",
       "      <td>0</td>\n",
       "      <td>0</td>\n",
       "      <td>0</td>\n",
       "      <td>1</td>\n",
       "    </tr>\n",
       "  </tbody>\n",
       "</table>\n",
       "<p>5 rows × 30 columns</p>\n",
       "</div>"
      ],
      "text/plain": [
       "   0  ID  MARRIAGE  AGE  PAY_0  PAY_2  PAY_3  PAY_4  PAY_5  PAY_6  ...  \\\n",
       "1  2   2         2   26     -1      2      0      0      0      2  ...   \n",
       "2  3   3         2   34      0      0      0      0      0      0  ...   \n",
       "3  4   4         1   37      0      0      0      0      0      0  ...   \n",
       "4  5   5         1   57     -1      0     -1      0      0      0  ...   \n",
       "5  6   6         2   37      0      0      0      0      0      0  ...   \n",
       "\n",
       "   PAY_AMT5  PAY_AMT6  SEX_female  SEX_male  EDUCATION_graduate school  \\\n",
       "1         0      2000           1         0                          0   \n",
       "2      1000      5000           1         0                          0   \n",
       "3      1069      1000           1         0                          0   \n",
       "4       689       679           0         1                          0   \n",
       "5      1000       800           0         1                          1   \n",
       "\n",
       "   EDUCATION_high school  EDUCATION_other  EDUCATION_university  \\\n",
       "1                      0                0                     1   \n",
       "2                      0                0                     1   \n",
       "3                      0                0                     1   \n",
       "4                      0                0                     1   \n",
       "5                      0                0                     0   \n",
       "\n",
       "   default payment next month_default  default payment next month_not default  \n",
       "1                                   1                                       0  \n",
       "2                                   0                                       1  \n",
       "3                                   0                                       1  \n",
       "4                                   0                                       1  \n",
       "5                                   0                                       1  \n",
       "\n",
       "[5 rows x 30 columns]"
      ]
     },
     "execution_count": 84,
     "metadata": {},
     "output_type": "execute_result"
    }
   ],
   "source": [
    "x = credit.loc[:, credit.columns != 'LIMIT_BAL']\n",
    "print('Summary of feature sample')\n",
    "x.head()"
   ]
  },
  {
   "cell_type": "code",
   "execution_count": 85,
   "id": "460104b5",
   "metadata": {},
   "outputs": [
    {
     "data": {
      "text/plain": [
       "1    120000\n",
       "2     90000\n",
       "3     50000\n",
       "4     50000\n",
       "5     50000\n",
       "Name: LIMIT_BAL, dtype: int32"
      ]
     },
     "execution_count": 85,
     "metadata": {},
     "output_type": "execute_result"
    }
   ],
   "source": [
    "y = credit['LIMIT_BAL']\n",
    "y.head()"
   ]
  },
  {
   "cell_type": "code",
   "execution_count": 86,
   "id": "e9da2569",
   "metadata": {},
   "outputs": [
    {
     "data": {
      "text/html": [
       "<div>\n",
       "<style scoped>\n",
       "    .dataframe tbody tr th:only-of-type {\n",
       "        vertical-align: middle;\n",
       "    }\n",
       "\n",
       "    .dataframe tbody tr th {\n",
       "        vertical-align: top;\n",
       "    }\n",
       "\n",
       "    .dataframe thead th {\n",
       "        text-align: right;\n",
       "    }\n",
       "</style>\n",
       "<table border=\"1\" class=\"dataframe\">\n",
       "  <thead>\n",
       "    <tr style=\"text-align: right;\">\n",
       "      <th></th>\n",
       "      <th>0</th>\n",
       "      <th>ID</th>\n",
       "      <th>MARRIAGE</th>\n",
       "      <th>AGE</th>\n",
       "      <th>PAY_0</th>\n",
       "      <th>PAY_2</th>\n",
       "      <th>PAY_3</th>\n",
       "      <th>PAY_4</th>\n",
       "      <th>PAY_5</th>\n",
       "      <th>PAY_6</th>\n",
       "      <th>...</th>\n",
       "      <th>PAY_AMT5</th>\n",
       "      <th>PAY_AMT6</th>\n",
       "      <th>SEX_female</th>\n",
       "      <th>SEX_male</th>\n",
       "      <th>EDUCATION_graduate school</th>\n",
       "      <th>EDUCATION_high school</th>\n",
       "      <th>EDUCATION_other</th>\n",
       "      <th>EDUCATION_university</th>\n",
       "      <th>default payment next month_default</th>\n",
       "      <th>default payment next month_not default</th>\n",
       "    </tr>\n",
       "  </thead>\n",
       "  <tbody>\n",
       "    <tr>\n",
       "      <th>13193</th>\n",
       "      <td>13194</td>\n",
       "      <td>12991</td>\n",
       "      <td>1</td>\n",
       "      <td>36</td>\n",
       "      <td>1</td>\n",
       "      <td>2</td>\n",
       "      <td>2</td>\n",
       "      <td>2</td>\n",
       "      <td>0</td>\n",
       "      <td>0</td>\n",
       "      <td>...</td>\n",
       "      <td>0</td>\n",
       "      <td>0</td>\n",
       "      <td>1</td>\n",
       "      <td>0</td>\n",
       "      <td>0</td>\n",
       "      <td>1</td>\n",
       "      <td>0</td>\n",
       "      <td>0</td>\n",
       "      <td>1</td>\n",
       "      <td>0</td>\n",
       "    </tr>\n",
       "    <tr>\n",
       "      <th>18144</th>\n",
       "      <td>18145</td>\n",
       "      <td>17942</td>\n",
       "      <td>2</td>\n",
       "      <td>32</td>\n",
       "      <td>0</td>\n",
       "      <td>0</td>\n",
       "      <td>0</td>\n",
       "      <td>0</td>\n",
       "      <td>0</td>\n",
       "      <td>0</td>\n",
       "      <td>...</td>\n",
       "      <td>4000</td>\n",
       "      <td>7200</td>\n",
       "      <td>0</td>\n",
       "      <td>1</td>\n",
       "      <td>0</td>\n",
       "      <td>0</td>\n",
       "      <td>0</td>\n",
       "      <td>1</td>\n",
       "      <td>0</td>\n",
       "      <td>1</td>\n",
       "    </tr>\n",
       "    <tr>\n",
       "      <th>13726</th>\n",
       "      <td>13727</td>\n",
       "      <td>13524</td>\n",
       "      <td>1</td>\n",
       "      <td>40</td>\n",
       "      <td>-1</td>\n",
       "      <td>-1</td>\n",
       "      <td>-1</td>\n",
       "      <td>-2</td>\n",
       "      <td>-2</td>\n",
       "      <td>-2</td>\n",
       "      <td>...</td>\n",
       "      <td>0</td>\n",
       "      <td>0</td>\n",
       "      <td>1</td>\n",
       "      <td>0</td>\n",
       "      <td>0</td>\n",
       "      <td>0</td>\n",
       "      <td>0</td>\n",
       "      <td>1</td>\n",
       "      <td>0</td>\n",
       "      <td>1</td>\n",
       "    </tr>\n",
       "    <tr>\n",
       "      <th>10371</th>\n",
       "      <td>10372</td>\n",
       "      <td>10169</td>\n",
       "      <td>1</td>\n",
       "      <td>39</td>\n",
       "      <td>0</td>\n",
       "      <td>0</td>\n",
       "      <td>0</td>\n",
       "      <td>0</td>\n",
       "      <td>0</td>\n",
       "      <td>-1</td>\n",
       "      <td>...</td>\n",
       "      <td>14587</td>\n",
       "      <td>1706</td>\n",
       "      <td>1</td>\n",
       "      <td>0</td>\n",
       "      <td>1</td>\n",
       "      <td>0</td>\n",
       "      <td>0</td>\n",
       "      <td>0</td>\n",
       "      <td>0</td>\n",
       "      <td>1</td>\n",
       "    </tr>\n",
       "    <tr>\n",
       "      <th>11767</th>\n",
       "      <td>11768</td>\n",
       "      <td>11565</td>\n",
       "      <td>1</td>\n",
       "      <td>30</td>\n",
       "      <td>-2</td>\n",
       "      <td>-1</td>\n",
       "      <td>-1</td>\n",
       "      <td>-2</td>\n",
       "      <td>-1</td>\n",
       "      <td>-1</td>\n",
       "      <td>...</td>\n",
       "      <td>962</td>\n",
       "      <td>0</td>\n",
       "      <td>1</td>\n",
       "      <td>0</td>\n",
       "      <td>0</td>\n",
       "      <td>0</td>\n",
       "      <td>0</td>\n",
       "      <td>1</td>\n",
       "      <td>0</td>\n",
       "      <td>1</td>\n",
       "    </tr>\n",
       "  </tbody>\n",
       "</table>\n",
       "<p>5 rows × 30 columns</p>\n",
       "</div>"
      ],
      "text/plain": [
       "           0     ID  MARRIAGE  AGE  PAY_0  PAY_2  PAY_3  PAY_4  PAY_5  PAY_6  \\\n",
       "13193  13194  12991         1   36      1      2      2      2      0      0   \n",
       "18144  18145  17942         2   32      0      0      0      0      0      0   \n",
       "13726  13727  13524         1   40     -1     -1     -1     -2     -2     -2   \n",
       "10371  10372  10169         1   39      0      0      0      0      0     -1   \n",
       "11767  11768  11565         1   30     -2     -1     -1     -2     -1     -1   \n",
       "\n",
       "       ...  PAY_AMT5  PAY_AMT6  SEX_female  SEX_male  \\\n",
       "13193  ...         0         0           1         0   \n",
       "18144  ...      4000      7200           0         1   \n",
       "13726  ...         0         0           1         0   \n",
       "10371  ...     14587      1706           1         0   \n",
       "11767  ...       962         0           1         0   \n",
       "\n",
       "       EDUCATION_graduate school  EDUCATION_high school  EDUCATION_other  \\\n",
       "13193                          0                      1                0   \n",
       "18144                          0                      0                0   \n",
       "13726                          0                      0                0   \n",
       "10371                          1                      0                0   \n",
       "11767                          0                      0                0   \n",
       "\n",
       "       EDUCATION_university  default payment next month_default  \\\n",
       "13193                     0                                   1   \n",
       "18144                     1                                   0   \n",
       "13726                     1                                   0   \n",
       "10371                     0                                   0   \n",
       "11767                     1                                   0   \n",
       "\n",
       "       default payment next month_not default  \n",
       "13193                                       0  \n",
       "18144                                       1  \n",
       "13726                                       1  \n",
       "10371                                       1  \n",
       "11767                                       1  \n",
       "\n",
       "[5 rows x 30 columns]"
      ]
     },
     "execution_count": 86,
     "metadata": {},
     "output_type": "execute_result"
    }
   ],
   "source": [
    "from sklearn.model_selection import train_test_split\n",
    "x_train, x_test, y_train, y_test = train_test_split(x, y, test_size = .30, random_state = 123)\n",
    "x_train.head()"
   ]
  },
  {
   "cell_type": "code",
   "execution_count": 89,
   "id": "94bb159a",
   "metadata": {},
   "outputs": [
    {
     "name": "stdout",
     "output_type": "stream",
     "text": [
      "1        120000\n",
      "2         90000\n",
      "3         50000\n",
      "4         50000\n",
      "5         50000\n",
      "          ...  \n",
      "30198    220000\n",
      "30199    150000\n",
      "30200     30000\n",
      "30201     80000\n",
      "30202     50000\n",
      "Name: LIMIT_BAL, Length: 30200, dtype: int32\n"
     ]
    }
   ],
   "source": [
    "#dependent variable\n",
    "print(y)"
   ]
  },
  {
   "cell_type": "code",
   "execution_count": 157,
   "id": "ab6a037c",
   "metadata": {},
   "outputs": [],
   "source": [
    "x_train, x_test, y_train, y_test = train_test_split(x, y, test_size = .30, random_state = 123)"
   ]
  },
  {
   "cell_type": "code",
   "execution_count": 158,
   "id": "22cb05b0",
   "metadata": {},
   "outputs": [],
   "source": [
    "from sklearn.tree import DecisionTreeClassifier\n",
    "from sklearn.metrics import accuracy_score, classification_report\n",
    "from sklearn.ensemble import RandomForestClassifier, GradientBoostingClassifier"
   ]
  },
  {
   "cell_type": "code",
   "execution_count": 159,
   "id": "8e00f423",
   "metadata": {},
   "outputs": [],
   "source": [
    "#Modeling (Classification)\n",
    "algosClass = []\n",
    "algosClass.append(('Random Forest Regressor',RandomForestRegressor()))"
   ]
  },
  {
   "cell_type": "code",
   "execution_count": 160,
   "id": "94ada2ea",
   "metadata": {},
   "outputs": [],
   "source": [
    "results = []\n",
    "names = []\n",
    "for name, model in algosClass:\n",
    "    result = cross_val_score(model, x,y, cv=3, scoring='r2')\n",
    "    names.append(name)\n",
    "    results.append(result)"
   ]
  },
  {
   "cell_type": "code",
   "execution_count": 161,
   "id": "b785027c",
   "metadata": {},
   "outputs": [
    {
     "name": "stdout",
     "output_type": "stream",
     "text": [
      "Random Forest Regressor 0.44844419074310027\n"
     ]
    }
   ],
   "source": [
    "for i in range(len(names)):\n",
    "    print(names[i],results[i].mean())"
   ]
  },
  {
   "cell_type": "code",
   "execution_count": 162,
   "id": "0cc114a0",
   "metadata": {},
   "outputs": [],
   "source": [
    "model = RandomForestRegressor(n_jobs=10)"
   ]
  },
  {
   "cell_type": "code",
   "execution_count": 163,
   "id": "20b3c97c",
   "metadata": {},
   "outputs": [
    {
     "name": "stdout",
     "output_type": "stream",
     "text": [
      "[0.42445682 0.4802798  0.43464501]\n"
     ]
    }
   ],
   "source": [
    "print(cross_val_score(model, x, y, cv=3))"
   ]
  },
  {
   "cell_type": "code",
   "execution_count": 164,
   "id": "d4c56abd",
   "metadata": {},
   "outputs": [],
   "source": [
    "algo =  RandomForestRegressor()\n",
    "model = algo.fit(x_train,y_train)"
   ]
  },
  {
   "cell_type": "code",
   "execution_count": 165,
   "id": "9d73176d",
   "metadata": {},
   "outputs": [
    {
     "name": "stdout",
     "output_type": "stream",
     "text": [
      "[304200.  88900. 111800. ... 192800. 119600. 224900.]\n"
     ]
    }
   ],
   "source": [
    "preds = model.predict(x_test)\n",
    "print(preds)"
   ]
  },
  {
   "cell_type": "code",
   "execution_count": 167,
   "id": "719726a0",
   "metadata": {},
   "outputs": [
    {
     "name": "stdout",
     "output_type": "stream",
     "text": [
      "R Squared: 0.485\n",
      "RMSE: 92355.376\n"
     ]
    }
   ],
   "source": [
    "#Make Predictions\n",
    "predictions = model.predict(x_test)\n",
    "predRsquared = r2_score(y_test,predictions)\n",
    "rmse = sqrt(mean_squared_error(y_test, predictions))\n",
    "print('R Squared: %.3f' % predRsquared)\n",
    "print('RMSE: %.3f' % rmse)"
   ]
  },
  {
   "cell_type": "code",
   "execution_count": 168,
   "id": "6d2b6eed",
   "metadata": {},
   "outputs": [
    {
     "name": "stdout",
     "output_type": "stream",
     "text": [
      "0.4848763439080934\n"
     ]
    }
   ],
   "source": [
    "predRsquared = r2_score(y_test,predictions)\n",
    "print(predRsquared)"
   ]
  },
  {
   "cell_type": "code",
   "execution_count": 169,
   "id": "e18d65f1",
   "metadata": {},
   "outputs": [
    {
     "data": {
      "image/png": "[encoded data removed]",
      "text/plain": [
       "<Figure size 432x288 with 1 Axes>"
      ]
     },
     "metadata": {
      "needs_background": "light"
     },
     "output_type": "display_data"
    }
   ],
   "source": [
    "plt.scatter(y_test, predictions, alpha = 1.0)\n",
    "plt.xlabel('Ground Truth')\n",
    "plt.ylabel('Predictions')\n",
    "plt.title('Actual Vs Predictions')\n",
    "plt.show()"
   ]
  },
  {
   "cell_type": "code",
   "execution_count": 170,
   "id": "ed5d4d69",
   "metadata": {},
   "outputs": [],
   "source": [
    "algosClass = []\n",
    "algosClass.append(('Linear Regression',LinearRegression()))"
   ]
  },
  {
   "cell_type": "code",
   "execution_count": 171,
   "id": "4039f241",
   "metadata": {},
   "outputs": [],
   "source": [
    "#regression\n",
    "results = []\n",
    "names = []\n",
    "for name, model in algosClass:\n",
    "    result = cross_val_score(model, x,y, cv=3, scoring='r2')\n",
    "    names.append(name)\n",
    "    results.append(result)"
   ]
  },
  {
   "cell_type": "code",
   "execution_count": 172,
   "id": "89656312",
   "metadata": {},
   "outputs": [
    {
     "name": "stdout",
     "output_type": "stream",
     "text": [
      "Linear Regression 0.3568088544403776\n"
     ]
    }
   ],
   "source": [
    "for i in range(len(names)):\n",
    "    print(names[i],results[i].mean())"
   ]
  },
  {
   "cell_type": "code",
   "execution_count": 173,
   "id": "d9a7766d",
   "metadata": {},
   "outputs": [],
   "source": [
    "model = LinearRegression(n_jobs=10)"
   ]
  },
  {
   "cell_type": "code",
   "execution_count": 174,
   "id": "407c31a6",
   "metadata": {},
   "outputs": [
    {
     "name": "stdout",
     "output_type": "stream",
     "text": [
      "[0.35739278 0.37882991 0.33420387]\n"
     ]
    }
   ],
   "source": [
    "print(cross_val_score(model, x, y, cv=3))"
   ]
  },
  {
   "cell_type": "code",
   "execution_count": 175,
   "id": "11edd52a",
   "metadata": {},
   "outputs": [],
   "source": [
    "algo = LinearRegression()\n",
    "model = algo.fit(x_train,y_train)"
   ]
  },
  {
   "cell_type": "code",
   "execution_count": 176,
   "id": "ba0f93d1",
   "metadata": {},
   "outputs": [
    {
     "name": "stdout",
     "output_type": "stream",
     "text": [
      "[240583.91003714  45783.72858324 124849.91310067 ... 196171.0045659\n",
      "  97327.19386453 193679.72550551]\n"
     ]
    }
   ],
   "source": [
    "preds = model.predict(x_test)\n",
    "print(preds)"
   ]
  },
  {
   "cell_type": "code",
   "execution_count": 177,
   "id": "d834fed3",
   "metadata": {},
   "outputs": [
    {
     "name": "stdout",
     "output_type": "stream",
     "text": [
      "R Squared: 0.366\n",
      "RMSE: 102465.755\n"
     ]
    }
   ],
   "source": [
    "#Make Predictions\n",
    "predictions = model.predict(x_test)\n",
    "predRsquared = r2_score(y_test,predictions)\n",
    "rmse = sqrt(mean_squared_error(y_test, predictions))\n",
    "print('R Squared: %.3f' % predRsquared)\n",
    "print('RMSE: %.3f' % rmse)"
   ]
  },
  {
   "cell_type": "code",
   "execution_count": 178,
   "id": "fcb8fea4",
   "metadata": {},
   "outputs": [
    {
     "data": {
      "image/png": "[encoded data removed]",
      "text/plain": [
       "<Figure size 432x288 with 1 Axes>"
      ]
     },
     "metadata": {
      "needs_background": "light"
     },
     "output_type": "display_data"
    }
   ],
   "source": [
    "plt.scatter(y_test, predictions, alpha = 1.0)\n",
    "plt.xlabel('Ground Truth')\n",
    "plt.ylabel('Predictions')\n",
    "plt.title('Actual Vs Predictions')\n",
    "plt.show()"
   ]
  },
  {
   "cell_type": "code",
   "execution_count": 180,
   "id": "1130560a",
   "metadata": {},
   "outputs": [],
   "source": [
    "algosClass = []\n",
    "algosClass.append(('Support Vector Regression',SVR()))"
   ]
  },
  {
   "cell_type": "code",
   "execution_count": 181,
   "id": "a0e7dfa6",
   "metadata": {},
   "outputs": [],
   "source": [
    "#regression\n",
    "results = []\n",
    "names = []\n",
    "for name, model in algosClass:\n",
    "    result = cross_val_score(model, x,y, cv=3, scoring='r2')\n",
    "    names.append(name)\n",
    "    results.append(result)"
   ]
  },
  {
   "cell_type": "code",
   "execution_count": 182,
   "id": "718df850",
   "metadata": {},
   "outputs": [
    {
     "name": "stdout",
     "output_type": "stream",
     "text": [
      "Support Vector Regression -0.05082927663289719\n"
     ]
    }
   ],
   "source": [
    "for i in range(len(names)):\n",
    "    print(names[i],results[i].mean())"
   ]
  },
  {
   "cell_type": "code",
   "execution_count": 183,
   "id": "21528377",
   "metadata": {},
   "outputs": [],
   "source": [
    "model = LinearRegression(n_jobs=10)"
   ]
  },
  {
   "cell_type": "code",
   "execution_count": 184,
   "id": "41849fca",
   "metadata": {},
   "outputs": [
    {
     "name": "stdout",
     "output_type": "stream",
     "text": [
      "[0.35739278 0.37882991 0.33420387]\n"
     ]
    }
   ],
   "source": [
    "print(cross_val_score(model, x, y, cv=3))"
   ]
  },
  {
   "cell_type": "code",
   "execution_count": 185,
   "id": "b7773b50",
   "metadata": {},
   "outputs": [],
   "source": [
    "algo = SVR()\n",
    "model = algo.fit(x_train,y_train)"
   ]
  },
  {
   "cell_type": "code",
   "execution_count": 187,
   "id": "9802674f",
   "metadata": {},
   "outputs": [
    {
     "name": "stdout",
     "output_type": "stream",
     "text": [
      "[139907.16795294 139828.30433166 139325.18338013 ... 140776.15822313\n",
      " 139729.95562167 139908.94868688]\n"
     ]
    }
   ],
   "source": [
    "preds = model.predict(x_test)\n",
    "print(preds)"
   ]
  },
  {
   "cell_type": "code",
   "execution_count": 188,
   "id": "7c6a885e",
   "metadata": {},
   "outputs": [
    {
     "name": "stdout",
     "output_type": "stream",
     "text": [
      "R Squared: -0.039\n",
      "RMSE: 131139.480\n"
     ]
    }
   ],
   "source": [
    "#Make Predictions\n",
    "predictions = model.predict(x_test)\n",
    "predRsquared = r2_score(y_test,predictions)\n",
    "rmse = sqrt(mean_squared_error(y_test, predictions))\n",
    "print('R Squared: %.3f' % predRsquared)\n",
    "print('RMSE: %.3f' % rmse)"
   ]
  },
  {
   "cell_type": "code",
   "execution_count": 189,
   "id": "6c0ab690",
   "metadata": {},
   "outputs": [
    {
     "data": {
      "image/png": "[encoded data removed]",
      "text/plain": [
       "<Figure size 432x288 with 1 Axes>"
      ]
     },
     "metadata": {
      "needs_background": "light"
     },
     "output_type": "display_data"
    }
   ],
   "source": [
    "plt.scatter(y_test, predictions, alpha = 1.0)\n",
    "plt.xlabel('Ground Truth')\n",
    "plt.ylabel('Predictions')\n",
    "plt.title('Actual Vs Predictions')\n",
    "plt.show()"
   ]
  },
  {
   "cell_type": "code",
   "execution_count": null,
   "id": "3166d322",
   "metadata": {},
   "outputs": [],
   "source": []
  }
 ],
 "metadata": {
  "kernelspec": {
   "display_name": "Python 3",
   "language": "python",
   "name": "python3"
  },
  "language_info": {
   "codemirror_mode": {
    "name": "ipython",
    "version": 3
   },
   "file_extension": ".py",
   "mimetype": "text/x-python",
   "name": "python",
   "nbconvert_exporter": "python",
   "pygments_lexer": "ipython3",
   "version": "3.8.8"
  }
 },
 "nbformat": 4,
 "nbformat_minor": 5
}
